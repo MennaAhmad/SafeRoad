{
 "cells": [
  {
   "cell_type": "code",
   "execution_count": 1,
   "id": "b67861ee",
   "metadata": {
    "_cell_guid": "b1076dfc-b9ad-4769-8c92-a6c4dae69d19",
    "_uuid": "8f2839f25d086af736a60e9eeb907d3b93b6e0e5",
    "execution": {
     "iopub.execute_input": "2024-05-06T00:59:53.060414Z",
     "iopub.status.busy": "2024-05-06T00:59:53.059573Z",
     "iopub.status.idle": "2024-05-06T00:59:53.074427Z",
     "shell.execute_reply": "2024-05-06T00:59:53.073025Z"
    },
    "papermill": {
     "duration": 0.02667,
     "end_time": "2024-05-06T00:59:53.077244",
     "exception": false,
     "start_time": "2024-05-06T00:59:53.050574",
     "status": "completed"
    },
    "tags": []
   },
   "outputs": [
    {
     "name": "stdout",
     "output_type": "stream",
     "text": [
      "['src', 'lib', 'input', 'working']\n"
     ]
    }
   ],
   "source": [
    "import os\n",
    "print(os.listdir(\"../\"))"
   ]
  },
  {
   "cell_type": "code",
   "execution_count": 2,
   "id": "d37e73b7",
   "metadata": {
    "execution": {
     "iopub.execute_input": "2024-05-06T00:59:53.089793Z",
     "iopub.status.busy": "2024-05-06T00:59:53.089362Z",
     "iopub.status.idle": "2024-05-06T00:59:54.180164Z",
     "shell.execute_reply": "2024-05-06T00:59:54.178880Z"
    },
    "papermill": {
     "duration": 1.099905,
     "end_time": "2024-05-06T00:59:54.183019",
     "exception": false,
     "start_time": "2024-05-06T00:59:53.083114",
     "status": "completed"
    },
    "tags": []
   },
   "outputs": [],
   "source": [
    "import numpy as np\n",
    "import pandas as pd"
   ]
  },
  {
   "cell_type": "code",
   "execution_count": 3,
   "id": "382565c3",
   "metadata": {
    "execution": {
     "iopub.execute_input": "2024-05-06T00:59:54.194699Z",
     "iopub.status.busy": "2024-05-06T00:59:54.194065Z",
     "iopub.status.idle": "2024-05-06T00:59:54.301884Z",
     "shell.execute_reply": "2024-05-06T00:59:54.300629Z"
    },
    "papermill": {
     "duration": 0.116808,
     "end_time": "2024-05-06T00:59:54.304631",
     "exception": false,
     "start_time": "2024-05-06T00:59:54.187823",
     "status": "completed"
    },
    "tags": []
   },
   "outputs": [
    {
     "data": {
      "text/html": [
       "<div>\n",
       "<style scoped>\n",
       "    .dataframe tbody tr th:only-of-type {\n",
       "        vertical-align: middle;\n",
       "    }\n",
       "\n",
       "    .dataframe tbody tr th {\n",
       "        vertical-align: top;\n",
       "    }\n",
       "\n",
       "    .dataframe thead th {\n",
       "        text-align: right;\n",
       "    }\n",
       "</style>\n",
       "<table border=\"1\" class=\"dataframe\">\n",
       "  <thead>\n",
       "    <tr style=\"text-align: right;\">\n",
       "      <th></th>\n",
       "      <th>Accident_Index</th>\n",
       "      <th>Location_Easting_OSGR</th>\n",
       "      <th>Location_Northing_OSGR</th>\n",
       "      <th>Longitude</th>\n",
       "      <th>Latitude</th>\n",
       "      <th>Police_Force</th>\n",
       "      <th>Accident_Severity</th>\n",
       "      <th>Number_of_Vehicles</th>\n",
       "      <th>Number_of_Casualties</th>\n",
       "      <th>Date</th>\n",
       "      <th>...</th>\n",
       "      <th>Pedestrian_Crossing-Human_Control</th>\n",
       "      <th>Pedestrian_Crossing-Physical_Facilities</th>\n",
       "      <th>Light_Conditions</th>\n",
       "      <th>Weather_Conditions</th>\n",
       "      <th>Road_Surface_Conditions</th>\n",
       "      <th>Special_Conditions_at_Site</th>\n",
       "      <th>Carriageway_Hazards</th>\n",
       "      <th>Urban_or_Rural_Area</th>\n",
       "      <th>Did_Police_Officer_Attend_Scene_of_Accident</th>\n",
       "      <th>LSOA_of_Accident_Location</th>\n",
       "    </tr>\n",
       "  </thead>\n",
       "  <tbody>\n",
       "    <tr>\n",
       "      <th>0</th>\n",
       "      <td>200812D100026</td>\n",
       "      <td>460830.0</td>\n",
       "      <td>452510.0</td>\n",
       "      <td>-1.074261</td>\n",
       "      <td>53.965099</td>\n",
       "      <td>12</td>\n",
       "      <td>3</td>\n",
       "      <td>1</td>\n",
       "      <td>1</td>\n",
       "      <td>10/01/2008</td>\n",
       "      <td>...</td>\n",
       "      <td>0</td>\n",
       "      <td>0</td>\n",
       "      <td>4</td>\n",
       "      <td>2</td>\n",
       "      <td>2</td>\n",
       "      <td>0</td>\n",
       "      <td>0</td>\n",
       "      <td>1</td>\n",
       "      <td>1</td>\n",
       "      <td>E01013369</td>\n",
       "    </tr>\n",
       "    <tr>\n",
       "      <th>1</th>\n",
       "      <td>2.00912E+12</td>\n",
       "      <td>460220.0</td>\n",
       "      <td>446720.0</td>\n",
       "      <td>-1.084698</td>\n",
       "      <td>53.913137</td>\n",
       "      <td>12</td>\n",
       "      <td>3</td>\n",
       "      <td>1</td>\n",
       "      <td>1</td>\n",
       "      <td>01/01/2009</td>\n",
       "      <td>...</td>\n",
       "      <td>0</td>\n",
       "      <td>0</td>\n",
       "      <td>6</td>\n",
       "      <td>1</td>\n",
       "      <td>1</td>\n",
       "      <td>0</td>\n",
       "      <td>0</td>\n",
       "      <td>2</td>\n",
       "      <td>1</td>\n",
       "      <td>E01013450</td>\n",
       "    </tr>\n",
       "    <tr>\n",
       "      <th>2</th>\n",
       "      <td>2.00912E+12</td>\n",
       "      <td>461460.0</td>\n",
       "      <td>448010.0</td>\n",
       "      <td>-1.065564</td>\n",
       "      <td>53.924585</td>\n",
       "      <td>12</td>\n",
       "      <td>3</td>\n",
       "      <td>1</td>\n",
       "      <td>1</td>\n",
       "      <td>03/01/2009</td>\n",
       "      <td>...</td>\n",
       "      <td>0</td>\n",
       "      <td>0</td>\n",
       "      <td>4</td>\n",
       "      <td>1</td>\n",
       "      <td>4</td>\n",
       "      <td>0</td>\n",
       "      <td>0</td>\n",
       "      <td>2</td>\n",
       "      <td>1</td>\n",
       "      <td>E01013365</td>\n",
       "    </tr>\n",
       "    <tr>\n",
       "      <th>3</th>\n",
       "      <td>2.00912E+12</td>\n",
       "      <td>465130.0</td>\n",
       "      <td>451620.0</td>\n",
       "      <td>-1.008917</td>\n",
       "      <td>53.956579</td>\n",
       "      <td>12</td>\n",
       "      <td>2</td>\n",
       "      <td>2</td>\n",
       "      <td>1</td>\n",
       "      <td>04/01/2009</td>\n",
       "      <td>...</td>\n",
       "      <td>0</td>\n",
       "      <td>0</td>\n",
       "      <td>4</td>\n",
       "      <td>1</td>\n",
       "      <td>2</td>\n",
       "      <td>0</td>\n",
       "      <td>0</td>\n",
       "      <td>2</td>\n",
       "      <td>1</td>\n",
       "      <td>E01013351</td>\n",
       "    </tr>\n",
       "    <tr>\n",
       "      <th>4</th>\n",
       "      <td>2.00912E+12</td>\n",
       "      <td>460850.0</td>\n",
       "      <td>452490.0</td>\n",
       "      <td>-1.073960</td>\n",
       "      <td>53.964917</td>\n",
       "      <td>12</td>\n",
       "      <td>3</td>\n",
       "      <td>2</td>\n",
       "      <td>1</td>\n",
       "      <td>05/01/2009</td>\n",
       "      <td>...</td>\n",
       "      <td>0</td>\n",
       "      <td>8</td>\n",
       "      <td>4</td>\n",
       "      <td>1</td>\n",
       "      <td>1</td>\n",
       "      <td>0</td>\n",
       "      <td>0</td>\n",
       "      <td>1</td>\n",
       "      <td>1</td>\n",
       "      <td>E01013369</td>\n",
       "    </tr>\n",
       "  </tbody>\n",
       "</table>\n",
       "<p>5 rows × 32 columns</p>\n",
       "</div>"
      ],
      "text/plain": [
       "  Accident_Index  Location_Easting_OSGR   Location_Northing_OSGR  Longitude  \\\n",
       "0  200812D100026                460830.0                452510.0  -1.074261   \n",
       "1    2.00912E+12                460220.0                446720.0  -1.084698   \n",
       "2    2.00912E+12                461460.0                448010.0  -1.065564   \n",
       "3    2.00912E+12                465130.0                451620.0  -1.008917   \n",
       "4    2.00912E+12                460850.0                452490.0  -1.073960   \n",
       "\n",
       "    Latitude  Police_Force  Accident_Severity  Number_of_Vehicles  \\\n",
       "0  53.965099            12                  3                   1   \n",
       "1  53.913137            12                  3                   1   \n",
       "2  53.924585            12                  3                   1   \n",
       "3  53.956579            12                  2                   2   \n",
       "4  53.964917            12                  3                   2   \n",
       "\n",
       "   Number_of_Casualties        Date  ...  Pedestrian_Crossing-Human_Control  \\\n",
       "0                     1  10/01/2008  ...                                  0   \n",
       "1                     1  01/01/2009  ...                                  0   \n",
       "2                     1  03/01/2009  ...                                  0   \n",
       "3                     1  04/01/2009  ...                                  0   \n",
       "4                     1  05/01/2009  ...                                  0   \n",
       "\n",
       "  Pedestrian_Crossing-Physical_Facilities  Light_Conditions  \\\n",
       "0                                       0                 4   \n",
       "1                                       0                 6   \n",
       "2                                       0                 4   \n",
       "3                                       0                 4   \n",
       "4                                       8                 4   \n",
       "\n",
       "  Weather_Conditions  Road_Surface_Conditions  Special_Conditions_at_Site  \\\n",
       "0                  2                        2                           0   \n",
       "1                  1                        1                           0   \n",
       "2                  1                        4                           0   \n",
       "3                  1                        2                           0   \n",
       "4                  1                        1                           0   \n",
       "\n",
       "   Carriageway_Hazards  Urban_or_Rural_Area  \\\n",
       "0                    0                    1   \n",
       "1                    0                    2   \n",
       "2                    0                    2   \n",
       "3                    0                    2   \n",
       "4                    0                    1   \n",
       "\n",
       "   Did_Police_Officer_Attend_Scene_of_Accident  LSOA_of_Accident_Location  \n",
       "0                                            1                  E01013369  \n",
       "1                                            1                  E01013450  \n",
       "2                                            1                  E01013365  \n",
       "3                                            1                  E01013351  \n",
       "4                                            1                  E01013369  \n",
       "\n",
       "[5 rows x 32 columns]"
      ]
     },
     "execution_count": 3,
     "metadata": {},
     "output_type": "execute_result"
    }
   ],
   "source": [
    "# import dataset\n",
    "accidents = pd.read_csv(\"/kaggle/input/dataset0/accidents.csv\")\n",
    "\n",
    "# take a look at first entries\n",
    "accidents.head()"
   ]
  },
  {
   "cell_type": "code",
   "execution_count": 4,
   "id": "5fe0fc33",
   "metadata": {
    "execution": {
     "iopub.execute_input": "2024-05-06T00:59:54.317241Z",
     "iopub.status.busy": "2024-05-06T00:59:54.316725Z",
     "iopub.status.idle": "2024-05-06T00:59:54.348384Z",
     "shell.execute_reply": "2024-05-06T00:59:54.347076Z"
    },
    "papermill": {
     "duration": 0.040905,
     "end_time": "2024-05-06T00:59:54.350991",
     "exception": false,
     "start_time": "2024-05-06T00:59:54.310086",
     "status": "completed"
    },
    "tags": []
   },
   "outputs": [
    {
     "name": "stdout",
     "output_type": "stream",
     "text": [
      "<class 'pandas.core.frame.DataFrame'>\n",
      "RangeIndex: 6515 entries, 0 to 6514\n",
      "Data columns (total 32 columns):\n",
      " #   Column                                       Non-Null Count  Dtype  \n",
      "---  ------                                       --------------  -----  \n",
      " 0   Accident_Index                               6515 non-null   object \n",
      " 1   Location_Easting_OSGR                        6514 non-null   float64\n",
      " 2   Location_Northing_OSGR                       6514 non-null   float64\n",
      " 3   Longitude                                    6514 non-null   float64\n",
      " 4   Latitude                                     6514 non-null   float64\n",
      " 5   Police_Force                                 6515 non-null   int64  \n",
      " 6   Accident_Severity                            6515 non-null   int64  \n",
      " 7   Number_of_Vehicles                           6515 non-null   int64  \n",
      " 8   Number_of_Casualties                         6515 non-null   int64  \n",
      " 9   Date                                         6515 non-null   object \n",
      " 10  Day_of_Week                                  6515 non-null   int64  \n",
      " 11  Time                                         6515 non-null   object \n",
      " 12  Local_Authority_(District)                   6515 non-null   int64  \n",
      " 13  Local_Authority_(Highway)                    6515 non-null   object \n",
      " 14  1st_Road_Class                               6515 non-null   int64  \n",
      " 15  1st_Road_Number                              6515 non-null   int64  \n",
      " 16  Road_Type                                    6515 non-null   int64  \n",
      " 17  Speed_limit                                  6515 non-null   int64  \n",
      " 18  Junction_Detail                              6515 non-null   int64  \n",
      " 19  Junction_Control                             6515 non-null   int64  \n",
      " 20  2nd_Road_Class                               6515 non-null   int64  \n",
      " 21  2nd_Road_Number                              6515 non-null   int64  \n",
      " 22  Pedestrian_Crossing-Human_Control            6515 non-null   int64  \n",
      " 23  Pedestrian_Crossing-Physical_Facilities      6515 non-null   int64  \n",
      " 24  Light_Conditions                             6515 non-null   int64  \n",
      " 25  Weather_Conditions                           6515 non-null   int64  \n",
      " 26  Road_Surface_Conditions                      6515 non-null   int64  \n",
      " 27  Special_Conditions_at_Site                   6515 non-null   int64  \n",
      " 28  Carriageway_Hazards                          6515 non-null   int64  \n",
      " 29  Urban_or_Rural_Area                          6515 non-null   int64  \n",
      " 30  Did_Police_Officer_Attend_Scene_of_Accident  6515 non-null   int64  \n",
      " 31  LSOA_of_Accident_Location                    6505 non-null   object \n",
      "dtypes: float64(4), int64(23), object(5)\n",
      "memory usage: 1.6+ MB\n"
     ]
    }
   ],
   "source": [
    "accidents.info()\n"
   ]
  },
  {
   "cell_type": "code",
   "execution_count": 5,
   "id": "7fde55d7",
   "metadata": {
    "execution": {
     "iopub.execute_input": "2024-05-06T00:59:54.365867Z",
     "iopub.status.busy": "2024-05-06T00:59:54.364895Z",
     "iopub.status.idle": "2024-05-06T00:59:54.373253Z",
     "shell.execute_reply": "2024-05-06T00:59:54.371557Z"
    },
    "papermill": {
     "duration": 0.021047,
     "end_time": "2024-05-06T00:59:54.377293",
     "exception": false,
     "start_time": "2024-05-06T00:59:54.356246",
     "status": "completed"
    },
    "tags": []
   },
   "outputs": [
    {
     "data": {
      "text/plain": [
       "(6515, 32)"
      ]
     },
     "execution_count": 5,
     "metadata": {},
     "output_type": "execute_result"
    }
   ],
   "source": [
    "# number of rows by number of columns\n",
    "accidents.shape"
   ]
  },
  {
   "cell_type": "code",
   "execution_count": null,
   "id": "f4dfff92",
   "metadata": {
    "papermill": {
     "duration": 0.004952,
     "end_time": "2024-05-06T00:59:54.388783",
     "exception": false,
     "start_time": "2024-05-06T00:59:54.383831",
     "status": "completed"
    },
    "tags": []
   },
   "outputs": [],
   "source": []
  },
  {
   "cell_type": "code",
   "execution_count": 6,
   "id": "6ee72f58",
   "metadata": {
    "execution": {
     "iopub.execute_input": "2024-05-06T00:59:54.401551Z",
     "iopub.status.busy": "2024-05-06T00:59:54.400876Z",
     "iopub.status.idle": "2024-05-06T00:59:54.413986Z",
     "shell.execute_reply": "2024-05-06T00:59:54.412602Z"
    },
    "papermill": {
     "duration": 0.022329,
     "end_time": "2024-05-06T00:59:54.416433",
     "exception": false,
     "start_time": "2024-05-06T00:59:54.394104",
     "status": "completed"
    },
    "tags": []
   },
   "outputs": [
    {
     "data": {
      "text/plain": [
       "Accident_Index                                  0\n",
       "Location_Easting_OSGR                           1\n",
       "Location_Northing_OSGR                          1\n",
       "Longitude                                       1\n",
       "Latitude                                        1\n",
       "Police_Force                                    0\n",
       "Accident_Severity                               0\n",
       "Number_of_Vehicles                              0\n",
       "Number_of_Casualties                            0\n",
       "Date                                            0\n",
       "Day_of_Week                                     0\n",
       "Time                                            0\n",
       "Local_Authority_(District)                      0\n",
       "Local_Authority_(Highway)                       0\n",
       "1st_Road_Class                                  0\n",
       "1st_Road_Number                                 0\n",
       "Road_Type                                       0\n",
       "Speed_limit                                     0\n",
       "Junction_Detail                                 0\n",
       "Junction_Control                                0\n",
       "2nd_Road_Class                                  0\n",
       "2nd_Road_Number                                 0\n",
       "Pedestrian_Crossing-Human_Control               0\n",
       "Pedestrian_Crossing-Physical_Facilities         0\n",
       "Light_Conditions                                0\n",
       "Weather_Conditions                              0\n",
       "Road_Surface_Conditions                         0\n",
       "Special_Conditions_at_Site                      0\n",
       "Carriageway_Hazards                             0\n",
       "Urban_or_Rural_Area                             0\n",
       "Did_Police_Officer_Attend_Scene_of_Accident     0\n",
       "LSOA_of_Accident_Location                      10\n",
       "dtype: int64"
      ]
     },
     "execution_count": 6,
     "metadata": {},
     "output_type": "execute_result"
    }
   ],
   "source": [
    "# check for 'NaN' values\n",
    "accidents.isnull().sum()"
   ]
  },
  {
   "cell_type": "code",
   "execution_count": 7,
   "id": "a23e28a1",
   "metadata": {
    "execution": {
     "iopub.execute_input": "2024-05-06T00:59:54.431814Z",
     "iopub.status.busy": "2024-05-06T00:59:54.430703Z",
     "iopub.status.idle": "2024-05-06T00:59:54.442142Z",
     "shell.execute_reply": "2024-05-06T00:59:54.441157Z"
    },
    "papermill": {
     "duration": 0.022616,
     "end_time": "2024-05-06T00:59:54.444779",
     "exception": false,
     "start_time": "2024-05-06T00:59:54.422163",
     "status": "completed"
    },
    "tags": []
   },
   "outputs": [],
   "source": [
    "# Option 1: Remove rows with missing values\n",
    "accidents_cleaned = accidents.dropna()"
   ]
  },
  {
   "cell_type": "code",
   "execution_count": 8,
   "id": "ac7222d5",
   "metadata": {
    "execution": {
     "iopub.execute_input": "2024-05-06T00:59:54.459169Z",
     "iopub.status.busy": "2024-05-06T00:59:54.458673Z",
     "iopub.status.idle": "2024-05-06T00:59:54.478654Z",
     "shell.execute_reply": "2024-05-06T00:59:54.477583Z"
    },
    "papermill": {
     "duration": 0.030015,
     "end_time": "2024-05-06T00:59:54.481407",
     "exception": false,
     "start_time": "2024-05-06T00:59:54.451392",
     "status": "completed"
    },
    "tags": []
   },
   "outputs": [],
   "source": [
    "# Option 2: Impute missing values (e.g., fill with mean, median, mode)\n",
    "numeric_columns = accidents.select_dtypes(include=['float64', 'int64']).columns\n",
    "accidents_imputed = accidents.copy()\n",
    "for column in numeric_columns:\n",
    "    accidents_imputed[column] = accidents[column].fillna(accidents[column].mean())\n"
   ]
  },
  {
   "cell_type": "code",
   "execution_count": 9,
   "id": "3f5a6131",
   "metadata": {
    "execution": {
     "iopub.execute_input": "2024-05-06T00:59:54.496054Z",
     "iopub.status.busy": "2024-05-06T00:59:54.495042Z",
     "iopub.status.idle": "2024-05-06T00:59:56.223344Z",
     "shell.execute_reply": "2024-05-06T00:59:56.222027Z"
    },
    "papermill": {
     "duration": 1.739415,
     "end_time": "2024-05-06T00:59:56.226358",
     "exception": false,
     "start_time": "2024-05-06T00:59:54.486943",
     "status": "completed"
    },
    "tags": []
   },
   "outputs": [],
   "source": [
    "# Option 3: Impute missing values using more advanced techniques (e.g., predictive modeling)\n",
    "from sklearn.impute import SimpleImputer\n",
    "\n",
    "imputer = SimpleImputer(strategy='mean')\n",
    "accidents_imputed_sklearn = accidents.copy()\n",
    "accidents_imputed_sklearn[numeric_columns] = imputer.fit_transform(accidents[numeric_columns])"
   ]
  },
  {
   "cell_type": "code",
   "execution_count": 10,
   "id": "7813a5d6",
   "metadata": {
    "execution": {
     "iopub.execute_input": "2024-05-06T00:59:56.240252Z",
     "iopub.status.busy": "2024-05-06T00:59:56.239777Z",
     "iopub.status.idle": "2024-05-06T00:59:56.686735Z",
     "shell.execute_reply": "2024-05-06T00:59:56.685489Z"
    },
    "papermill": {
     "duration": 0.457664,
     "end_time": "2024-05-06T00:59:56.689819",
     "exception": false,
     "start_time": "2024-05-06T00:59:56.232155",
     "status": "completed"
    },
    "tags": []
   },
   "outputs": [],
   "source": [
    "# After handling missing values, you can save the cleaned dataset to a new file\n",
    "accidents_cleaned.to_csv(\"accidents_cleaned.csv\", index=False)\n",
    "accidents_imputed.to_csv(\"accidents_imputed.csv\", index=False)\n",
    "accidents_imputed_sklearn.to_csv(\"accidents_imputed_sklearn.csv\", index=False)"
   ]
  },
  {
   "cell_type": "code",
   "execution_count": 11,
   "id": "9091b1f5",
   "metadata": {
    "execution": {
     "iopub.execute_input": "2024-05-06T00:59:56.704715Z",
     "iopub.status.busy": "2024-05-06T00:59:56.703993Z",
     "iopub.status.idle": "2024-05-06T00:59:56.710693Z",
     "shell.execute_reply": "2024-05-06T00:59:56.709448Z"
    },
    "papermill": {
     "duration": 0.017079,
     "end_time": "2024-05-06T00:59:56.713251",
     "exception": false,
     "start_time": "2024-05-06T00:59:56.696172",
     "status": "completed"
    },
    "tags": []
   },
   "outputs": [
    {
     "name": "stdout",
     "output_type": "stream",
     "text": [
      "Original columns:\n",
      " Index(['Accident_Index', 'Location_Easting_OSGR ', 'Location_Northing_OSGR',\n",
      "       'Longitude', 'Latitude', 'Police_Force', 'Accident_Severity',\n",
      "       'Number_of_Vehicles', 'Number_of_Casualties', 'Date', 'Day_of_Week',\n",
      "       'Time', 'Local_Authority_(District)', 'Local_Authority_(Highway)',\n",
      "       '1st_Road_Class', '1st_Road_Number', 'Road_Type', 'Speed_limit',\n",
      "       'Junction_Detail', 'Junction_Control', '2nd_Road_Class',\n",
      "       '2nd_Road_Number', 'Pedestrian_Crossing-Human_Control',\n",
      "       'Pedestrian_Crossing-Physical_Facilities', 'Light_Conditions',\n",
      "       'Weather_Conditions', 'Road_Surface_Conditions',\n",
      "       'Special_Conditions_at_Site', 'Carriageway_Hazards',\n",
      "       'Urban_or_Rural_Area', 'Did_Police_Officer_Attend_Scene_of_Accident',\n",
      "       'LSOA_of_Accident_Location'],\n",
      "      dtype='object')\n"
     ]
    }
   ],
   "source": [
    "# Check the columns in the dataset\n",
    "print(\"Original columns:\\n\", accidents.columns)\n"
   ]
  },
  {
   "cell_type": "code",
   "execution_count": 12,
   "id": "cf01e0bb",
   "metadata": {
    "execution": {
     "iopub.execute_input": "2024-05-06T00:59:56.727814Z",
     "iopub.status.busy": "2024-05-06T00:59:56.727066Z",
     "iopub.status.idle": "2024-05-06T00:59:56.733655Z",
     "shell.execute_reply": "2024-05-06T00:59:56.732224Z"
    },
    "papermill": {
     "duration": 0.017407,
     "end_time": "2024-05-06T00:59:56.736884",
     "exception": false,
     "start_time": "2024-05-06T00:59:56.719477",
     "status": "completed"
    },
    "tags": []
   },
   "outputs": [],
   "source": [
    "# List of columns to keep (modify this list based on your requirements)\n",
    "columns_to_keep = ['Accident_Index', 'Location_Easting_OSGR', 'Location_Northing_OSGR', 'Longitude', 'Latitude', 'Police_Force', 'Accident_Severity', 'Number_of_Vehicles', 'Number_of_Casualties', 'Date', 'Day_of_Week', 'Time', 'Local_Authority_(District)', 'Local_Authority_(Highway)', '1st_Road_Class', '1st_Road_Number', 'Road_Type', 'Speed_limit', 'Junction_Detail', 'Junction_Control', '2nd_Road_Class', '2nd_Road_Number', 'Pedestrian_Crossing-Human_Control', 'Pedestrian_Crossing-Physical_Facilities', 'Light_Conditions', 'Weather_Conditions', 'Road_Surface_Conditions', 'Special_Conditions_at_Site', 'Carriageway_Hazards', 'Urban_or_Rural_Area', 'Did_Police_Officer_Attend_Scene_of_Accident', 'LSOA_of_Accident_Location']"
   ]
  },
  {
   "cell_type": "code",
   "execution_count": 13,
   "id": "bc43c454",
   "metadata": {
    "execution": {
     "iopub.execute_input": "2024-05-06T00:59:56.751424Z",
     "iopub.status.busy": "2024-05-06T00:59:56.750932Z",
     "iopub.status.idle": "2024-05-06T00:59:56.757600Z",
     "shell.execute_reply": "2024-05-06T00:59:56.756337Z"
    },
    "papermill": {
     "duration": 0.016467,
     "end_time": "2024-05-06T00:59:56.760360",
     "exception": false,
     "start_time": "2024-05-06T00:59:56.743893",
     "status": "completed"
    },
    "tags": []
   },
   "outputs": [],
   "source": [
    "# Create a function to categorize accident severity\n",
    "def category(accident_severity):\n",
    "    if accident_severity == 1:\n",
    "        return 'Fatal'\n",
    "    elif accident_severity == 2:\n",
    "        return 'Serious'\n",
    "    elif accident_severity == 3:\n",
    "        return 'Slight'\n",
    "    else:\n",
    "        return 'Unknown'"
   ]
  },
  {
   "cell_type": "code",
   "execution_count": 14,
   "id": "35ee5c99",
   "metadata": {
    "execution": {
     "iopub.execute_input": "2024-05-06T00:59:56.774859Z",
     "iopub.status.busy": "2024-05-06T00:59:56.774055Z",
     "iopub.status.idle": "2024-05-06T00:59:56.782168Z",
     "shell.execute_reply": "2024-05-06T00:59:56.781160Z"
    },
    "papermill": {
     "duration": 0.01839,
     "end_time": "2024-05-06T00:59:56.784812",
     "exception": false,
     "start_time": "2024-05-06T00:59:56.766422",
     "status": "completed"
    },
    "tags": []
   },
   "outputs": [],
   "source": [
    "# Apply the function and add it as 'Accident_Category' column\n",
    "accidents['Accident_Category'] = accidents['Accident_Severity'].apply(category)"
   ]
  }
 ],
 "metadata": {
  "kaggle": {
   "accelerator": "none",
   "dataSources": [
    {
     "datasetId": 4894020,
     "sourceId": 8248567,
     "sourceType": "datasetVersion"
    }
   ],
   "dockerImageVersionId": 30698,
   "isGpuEnabled": false,
   "isInternetEnabled": false,
   "language": "python",
   "sourceType": "notebook"
  },
  "kernelspec": {
   "display_name": "Python 3",
   "language": "python",
   "name": "python3"
  },
  "language_info": {
   "codemirror_mode": {
    "name": "ipython",
    "version": 3
   },
   "file_extension": ".py",
   "mimetype": "text/x-python",
   "name": "python",
   "nbconvert_exporter": "python",
   "pygments_lexer": "ipython3",
   "version": "3.10.13"
  },
  "papermill": {
   "default_parameters": {},
   "duration": 7.841086,
   "end_time": "2024-05-06T00:59:57.614819",
   "environment_variables": {},
   "exception": null,
   "input_path": "__notebook__.ipynb",
   "output_path": "__notebook__.ipynb",
   "parameters": {},
   "start_time": "2024-05-06T00:59:49.773733",
   "version": "2.5.0"
  }
 },
 "nbformat": 4,
 "nbformat_minor": 5
}
