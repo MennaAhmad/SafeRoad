{
 "cells": [
  {
   "cell_type": "code",
   "execution_count": 1,
   "id": "b9eeea72",
   "metadata": {
    "_cell_guid": "b1076dfc-b9ad-4769-8c92-a6c4dae69d19",
    "_uuid": "8f2839f25d086af736a60e9eeb907d3b93b6e0e5",
    "execution": {
     "iopub.execute_input": "2024-05-06T19:26:52.840821Z",
     "iopub.status.busy": "2024-05-06T19:26:52.840465Z",
     "iopub.status.idle": "2024-05-06T19:26:53.664583Z",
     "shell.execute_reply": "2024-05-06T19:26:53.663497Z"
    },
    "papermill": {
     "duration": 0.830641,
     "end_time": "2024-05-06T19:26:53.667316",
     "exception": false,
     "start_time": "2024-05-06T19:26:52.836675",
     "status": "completed"
    },
    "tags": []
   },
   "outputs": [],
   "source": [
    "import pandas as pd \n",
    "import numpy as np \n",
    "import warnings\n",
    "warnings.filterwarnings(\"ignore\")"
   ]
  },
  {
   "cell_type": "code",
   "execution_count": null,
   "id": "079763df",
   "metadata": {
    "papermill": {
     "duration": 0.001796,
     "end_time": "2024-05-06T19:26:53.672786",
     "exception": false,
     "start_time": "2024-05-06T19:26:53.670990",
     "status": "completed"
    },
    "tags": []
   },
   "outputs": [],
   "source": []
  }
 ],
 "metadata": {
  "kaggle": {
   "accelerator": "none",
   "dataSources": [
    {
     "datasetId": 14859,
     "sourceId": 19843,
     "sourceType": "datasetVersion"
    },
    {
     "datasetId": 4894020,
     "sourceId": 8248567,
     "sourceType": "datasetVersion"
    },
    {
     "datasetId": 4952006,
     "sourceId": 8338153,
     "sourceType": "datasetVersion"
    }
   ],
   "dockerImageVersionId": 30698,
   "isGpuEnabled": false,
   "isInternetEnabled": true,
   "language": "python",
   "sourceType": "notebook"
  },
  "kernelspec": {
   "display_name": "Python 3",
   "language": "python",
   "name": "python3"
  },
  "language_info": {
   "codemirror_mode": {
    "name": "ipython",
    "version": 3
   },
   "file_extension": ".py",
   "mimetype": "text/x-python",
   "name": "python",
   "nbconvert_exporter": "python",
   "pygments_lexer": "ipython3",
   "version": "3.10.13"
  },
  "papermill": {
   "default_parameters": {},
   "duration": 3.951774,
   "end_time": "2024-05-06T19:26:54.096208",
   "environment_variables": {},
   "exception": null,
   "input_path": "__notebook__.ipynb",
   "output_path": "__notebook__.ipynb",
   "parameters": {},
   "start_time": "2024-05-06T19:26:50.144434",
   "version": "2.5.0"
  }
 },
 "nbformat": 4,
 "nbformat_minor": 5
}
